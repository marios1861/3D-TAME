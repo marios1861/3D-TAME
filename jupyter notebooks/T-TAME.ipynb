{
 "cells": [
  {
   "cell_type": "markdown",
   "metadata": {},
   "source": [
    "We first have to define our new model. We write our model:"
   ]
  },
  {
   "cell_type": "code",
   "execution_count": 2,
   "metadata": {},
   "outputs": [
    {
     "data": {
      "text/plain": [
       "['lr_finder.py',\n",
       " 'train_script.py',\n",
       " 'utilities',\n",
       " 'eval_script.py',\n",
       " 'masked_print.py',\n",
       " 'bash scripts',\n",
       " 'T-TAME.ipynb',\n",
       " '.ipynb_checkpoints',\n",
       " 'plot_lr.py',\n",
       " 'jupyter notebooks',\n",
       " 'model_inspector.py']"
      ]
     },
     "execution_count": 2,
     "metadata": {},
     "output_type": "execute_result"
    }
   ],
   "source": []
  },
  {
   "cell_type": "code",
   "execution_count": null,
   "metadata": {},
   "outputs": [],
   "source": []
  }
 ],
 "metadata": {
  "kernelspec": {
   "display_name": "Python 3 (ipykernel)",
   "language": "python",
   "name": "python3"
  },
  "language_info": {
   "codemirror_mode": {
    "name": "ipython",
    "version": 3
   },
   "file_extension": ".py",
   "mimetype": "text/x-python",
   "name": "python",
   "nbconvert_exporter": "python",
   "pygments_lexer": "ipython3",
   "version": "3.8.10"
  },
  "vscode": {
   "interpreter": {
    "hash": "8afb679e04307d4faaf2cb935e89200c80574e19d7cc781919a52fdfb1164e5a"
   }
  }
 },
 "nbformat": 4,
 "nbformat_minor": 2
}
