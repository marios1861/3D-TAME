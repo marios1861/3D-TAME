{
 "cells": [
  {
   "cell_type": "markdown",
   "metadata": {},
   "source": [
    "We first have to train our model. We write our training function:"
   ]
  },
  {
   "cell_type": "code",
   "execution_count": 1,
   "metadata": {},
   "outputs": [
    {
     "ename": "NameError",
     "evalue": "name 'AverageMeter' is not defined",
     "output_type": "error",
     "traceback": [
      "\u001b[0;31m---------------------------------------------------------------------------\u001b[0m",
      "\u001b[0;31mNameError\u001b[0m                                 Traceback (most recent call last)",
      "Cell \u001b[0;32mIn [1], line 1\u001b[0m\n\u001b[0;32m----> 1\u001b[0m batch_time \u001b[38;5;241m=\u001b[39m \u001b[43mAverageMeter\u001b[49m()\n\u001b[1;32m      2\u001b[0m losses \u001b[38;5;241m=\u001b[39m AverageMeter()\n\u001b[1;32m      3\u001b[0m top1 \u001b[38;5;241m=\u001b[39m AverageMeter()\n",
      "\u001b[0;31mNameError\u001b[0m: name 'AverageMeter' is not defined"
     ]
    }
   ],
   "source": [
    "import os\n",
    "os.listdir()"
   ]
  },
  {
   "cell_type": "code",
   "execution_count": null,
   "metadata": {},
   "outputs": [],
   "source": []
  }
 ],
 "metadata": {
  "kernelspec": {
   "display_name": "Python 3 (ipykernel)",
   "language": "python",
   "name": "python3"
  },
  "language_info": {
   "codemirror_mode": {
    "name": "ipython",
    "version": 3
   },
   "file_extension": ".py",
   "mimetype": "text/x-python",
   "name": "python",
   "nbconvert_exporter": "python",
   "pygments_lexer": "ipython3",
   "version": "3.8.10"
  },
  "vscode": {
   "interpreter": {
    "hash": "8afb679e04307d4faaf2cb935e89200c80574e19d7cc781919a52fdfb1164e5a"
   }
  }
 },
 "nbformat": 4,
 "nbformat_minor": 2
}
