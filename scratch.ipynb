{
 "cells": [
  {
   "cell_type": "code",
   "execution_count": 1,
   "metadata": {},
   "outputs": [],
   "source": [
    "import tame"
   ]
  },
  {
   "cell_type": "code",
   "execution_count": 2,
   "metadata": {},
   "outputs": [],
   "source": [
    "cfg = {\"model\": 'vgg16',\n",
    "       \"layers\": 'features.16 features.23 features.30',\n",
    "       \"version\": \"TAME\",\n",
    "       \"noisy_masks\": True,\n",
    "       \"input_size\": 256,\n",
    "       \"crop_size\": 224,\n",
    "       \"dataset\": '/home/marios/Documents/imagenet-1k',\n",
    "       \"datalist\": '/home/marios/Documents/T-TAME/datalist/ILSVRC',\n",
    "       \"batch_size\": 32,\n",
    "       \"num_workers\": 8}"
   ]
  },
  {
   "cell_type": "code",
   "execution_count": null,
   "metadata": {},
   "outputs": [],
   "source": [
    "import torch\n",
    "torch.manual_seed(0)\n",
    "mdl = tame.utilities.get_model(cfg)\n"
   ]
  },
  {
   "cell_type": "code",
   "execution_count": 6,
   "metadata": {},
   "outputs": [],
   "source": [
    "import sys\n",
    "sys.path.append(\"/home/marios/Documents/L-CAM/ntrougkas/TAME/scripts\")"
   ]
  },
  {
   "cell_type": "code",
   "execution_count": null,
   "metadata": {},
   "outputs": [],
   "source": [
    "import train_script as mdl2"
   ]
  },
  {
   "cell_type": "code",
   "execution_count": 12,
   "metadata": {},
   "outputs": [],
   "source": [
    "class Args(object):\n",
    "    def __init__(self):\n",
    "        self.model = 'vgg16'\n",
    "        self.layers = 'features.16 features.23 features.30'\n",
    "        self.version = 'TAME'\n",
    "        self.input_size = 256\n",
    "        self.crop_size = 224\n",
    "        self.img_dir = \"/home/marios/Documents/imagenet-1k/ILSVRC2012_img_train/\"\n",
    "        self.train_list = \"/home/marios/Documents/L-CAM/ntrougkas/TAME/datalist/ILSVRC/VGG16_train.txt\"\n",
    "        self.batch_size = 32\n",
    "        self.num_workers = 8\n",
    "args = Args()"
   ]
  },
  {
   "cell_type": "code",
   "execution_count": null,
   "metadata": {},
   "outputs": [],
   "source": [
    "args = Args()\n",
    "torch.manual_seed(0)\n",
    "mdl2 = mdl2.get_model(args)"
   ]
  },
  {
   "cell_type": "code",
   "execution_count": null,
   "metadata": {},
   "outputs": [],
   "source": [
    "for (n1, p1), (n2, p2) in zip(mdl.named_parameters(), mdl2.named_parameters()):\n",
    "    if p1.data.ne(p2.data).sum() > 0:\n",
    "        print(False)\n",
    "        print(n1, n2)\n",
    "        print(p1.data.shape)\n",
    "        print(p2.data.shape)"
   ]
  },
  {
   "cell_type": "code",
   "execution_count": 9,
   "metadata": {},
   "outputs": [],
   "source": [
    "train_loader1, _, _ = tame.utilities.data_loader(cfg)"
   ]
  },
  {
   "cell_type": "code",
   "execution_count": 13,
   "metadata": {},
   "outputs": [],
   "source": [
    "from utilities.load_data import data_loader\n",
    "train_loader2 = data_loader(args)"
   ]
  },
  {
   "cell_type": "code",
   "execution_count": 14,
   "metadata": {},
   "outputs": [],
   "source": [
    "dat1 = next(iter(train_loader1))\n",
    "dat2 = next(iter(train_loader2))"
   ]
  },
  {
   "cell_type": "code",
   "execution_count": 15,
   "metadata": {},
   "outputs": [
    {
     "name": "stdout",
     "output_type": "stream",
     "text": [
      "False\n"
     ]
    }
   ],
   "source": [
    "if dat1[0].data.ne(dat2[0].data).sum() > 0:\n",
    "        print(False)"
   ]
  },
  {
   "cell_type": "code",
   "execution_count": 24,
   "metadata": {},
   "outputs": [
    {
     "data": {
      "text/plain": [
       "tensor([[[0.9961, 0.7412, 0.2431,  ..., 1.0000, 1.0000, 1.0000],\n",
       "         [1.0000, 0.7373, 0.2196,  ..., 1.0000, 1.0000, 1.0000],\n",
       "         [0.9961, 0.7216, 0.1961,  ..., 1.0000, 1.0000, 1.0000],\n",
       "         ...,\n",
       "         [0.9882, 0.7137, 0.2039,  ..., 1.0000, 1.0000, 1.0000],\n",
       "         [0.9922, 0.7176, 0.1882,  ..., 1.0000, 1.0000, 1.0000],\n",
       "         [0.9922, 0.7176, 0.1647,  ..., 1.0000, 1.0000, 1.0000]],\n",
       "\n",
       "        [[0.9922, 0.7529, 0.2745,  ..., 1.0000, 1.0000, 1.0000],\n",
       "         [0.9922, 0.7490, 0.2588,  ..., 1.0000, 1.0000, 1.0000],\n",
       "         [0.9843, 0.7373, 0.2392,  ..., 1.0000, 1.0000, 1.0000],\n",
       "         ...,\n",
       "         [0.9843, 0.7333, 0.2549,  ..., 1.0000, 1.0000, 1.0000],\n",
       "         [0.9843, 0.7373, 0.2431,  ..., 1.0000, 1.0000, 1.0000],\n",
       "         [0.9922, 0.7373, 0.2196,  ..., 1.0000, 1.0000, 1.0000]],\n",
       "\n",
       "        [[0.9804, 0.6824, 0.1373,  ..., 1.0000, 1.0000, 1.0000],\n",
       "         [0.9843, 0.6824, 0.1294,  ..., 1.0000, 1.0000, 1.0000],\n",
       "         [0.9843, 0.6784, 0.1098,  ..., 1.0000, 1.0000, 1.0000],\n",
       "         ...,\n",
       "         [0.9765, 0.6627, 0.1020,  ..., 1.0000, 1.0000, 1.0000],\n",
       "         [0.9765, 0.6627, 0.0824,  ..., 1.0000, 1.0000, 1.0000],\n",
       "         [0.9804, 0.6588, 0.0627,  ..., 1.0000, 1.0000, 1.0000]]])"
      ]
     },
     "execution_count": 24,
     "metadata": {},
     "output_type": "execute_result"
    }
   ],
   "source": [
    "dat2[0][0]"
   ]
  }
 ],
 "metadata": {
  "kernelspec": {
   "display_name": "Python 3.8.10 ('venv': venv)",
   "language": "python",
   "name": "python3"
  },
  "language_info": {
   "codemirror_mode": {
    "name": "ipython",
    "version": 3
   },
   "file_extension": ".py",
   "mimetype": "text/x-python",
   "name": "python",
   "nbconvert_exporter": "python",
   "pygments_lexer": "ipython3",
   "version": "3.8.10"
  },
  "orig_nbformat": 4,
  "vscode": {
   "interpreter": {
    "hash": "8afb679e04307d4faaf2cb935e89200c80574e19d7cc781919a52fdfb1164e5a"
   }
  }
 },
 "nbformat": 4,
 "nbformat_minor": 2
}
